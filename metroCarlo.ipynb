{
 "cells": [
  {
   "cell_type": "code",
   "execution_count": null,
   "metadata": {},
   "outputs": [],
   "source": [
    "#Use Metro Carlo simulator for the following:\n",
    "# 1. Suppose you have three bills. Two are $10 bills and the other one is a $100 bill. Your friend puts each bill in a box. So one box has $100, adn the other two boxes have $10 each. You pick a box, lets say box 1, thwn your friend who knows what's inside the boxes, opens another, say box 3, which has $10 bill. Do you want to stick your choice or switch to another box in order to get the $100 bill? (If the 100 us inside box 2 the friend must open box 3, but if 100 is inside box 1, the friend must open box 2 or 3)\n",
    "# (Hint: you can use the Metro Carlo simulator to simulate the process of picking a box)\n",
    "\n",
    "\n",
    "#import the dependencies\n",
    "import numpy as np\n",
    "import matplotlib.pyplot as plt\n"
   ]
  },
  {
   "cell_type": "code",
   "execution_count": null,
   "metadata": {},
   "outputs": [],
   "source": [
    "#define the function\n",
    "def metro_carlo(n):\n",
    "    #define the variables\n",
    "    box1 = 0\n",
    "    box2 = 0\n",
    "    box3 = 0\n",
    "    #define the loop\n",
    "    for i in range(n):\n",
    "        #define the random number\n",
    "        r = np.random.randint(1,4)\n",
    "        #define the conditions\n",
    "        if r == 1:\n",
    "            box1 += 1\n",
    "        elif r == 2:\n",
    "            box2 += 1\n",
    "        else:\n",
    "            box3 += 1\n",
    "    #define the return\n",
    "    return box1, box2, box3\n",
    "\n",
    "\n"
   ]
  },
  {
   "cell_type": "code",
   "execution_count": null,
   "metadata": {},
   "outputs": [],
   "source": [
    "#define the main function\n",
    "def main():\n",
    "    #define the variables\n",
    "    n = 1000000\n",
    "    #define the loop\n",
    "    box1, box2, box3 = metro_carlo(n)\n",
    "    #define the return\n",
    "    print(\"Box 1:\", box1/n)\n",
    "    print(\"Box 2:\", box2/n)\n",
    "    print(\"Box 3:\", box3/n)\n",
    "    \n",
    "    "
   ]
  },
  {
   "cell_type": "code",
   "execution_count": null,
   "metadata": {},
   "outputs": [],
   "source": [
    "#call the main function\n",
    "main()"
   ]
  },
  {
   "cell_type": "code",
   "execution_count": null,
   "metadata": {},
   "outputs": [],
   "source": [
    "#plot the graph\n",
    "plt.hist(metro_carlo(n), bins=3)\n",
    "plt.show()\n",
    "\n"
   ]
  },
  {
   "cell_type": "code",
   "execution_count": null,
   "metadata": {},
   "outputs": [],
   "source": [
    "# 2. The book's integration codes work for integrals with simple ymin/ymax, not for every integral.\n",
    "# For example the following integral:\n",
    "#  ∫ x.cos(71x) + sin(13x) dx\n",
    "# We can draw the function f(x) = x.cos(71x) + sin(13x) and integrate it using the book's integration codes."
   ]
  },
  {
   "cell_type": "code",
   "execution_count": null,
   "metadata": {},
   "outputs": [],
   "source": [
    "\n",
    "\n",
    "#define the function\n",
    "def integrate(f, xmin, xmax, n):\n",
    "    #define the variables\n",
    "    x = np.linspace(xmin, xmax, n)\n",
    "    y = f(x)\n",
    "    #define the return\n",
    "    return np.trapz(y, x)\n",
    "\n",
    "#define the main function\n",
    "def main():\n",
    "    #define the variables\n",
    "    xmin = 0\n",
    "    xmax = 1\n",
    "    n = 100\n",
    "    #define the loop\n",
    "    print(\"Integral:\", integrate(f, xmin, xmax, n))\n",
    "    \n",
    "#define the function\n",
    "def f(x):\n",
    "    #define the variables\n",
    "    x = x\n",
    "    #define the return\n",
    "    return x.cos(71*x) + np.sin(13*x)\n",
    "\n",
    "#call the main function\n",
    "main()"
   ]
  }
 ],
 "metadata": {
  "language_info": {
   "name": "python"
  },
  "orig_nbformat": 4
 },
 "nbformat": 4,
 "nbformat_minor": 2
}
